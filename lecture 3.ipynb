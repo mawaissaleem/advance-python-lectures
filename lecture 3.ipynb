{
 "cells": [
  {
   "cell_type": "code",
   "execution_count": 3,
   "id": "666d4d30",
   "metadata": {},
   "outputs": [
    {
     "name": "stdout",
     "output_type": "stream",
     "text": [
      "enter a4\n",
      "4\n",
      "<class 'str'>\n"
     ]
    }
   ],
   "source": [
    "a= input(\"enter a\")\n",
    "print(a)\n",
    "type(a)\n",
    "print(type(a))"
   ]
  },
  {
   "cell_type": "code",
   "execution_count": 5,
   "id": "53a638f6",
   "metadata": {},
   "outputs": [
    {
     "name": "stdout",
     "output_type": "stream",
     "text": [
      "False\n"
     ]
    }
   ],
   "source": [
    "drive= True\n",
    "drink=False\n",
    "both= drive and drink\n",
    "print(both)"
   ]
  },
  {
   "cell_type": "code",
   "execution_count": 6,
   "id": "377a89ae",
   "metadata": {},
   "outputs": [
    {
     "name": "stdout",
     "output_type": "stream",
     "text": [
      "enter the first number; 4.3\n",
      "enter the second number; 2.5\n",
      "y is smaller\n",
      "thank you soo much\n"
     ]
    }
   ],
   "source": [
    "x=float(input(\"enter the first number; \"))\n",
    "y=float(input(\"enter the second number; \"))\n",
    "\n",
    "if x==y:\n",
    "    print(\"x and y are not equal\")\n",
    "    if y!=x:\n",
    "        print(\"therefore, x/y is\", x/y)\n",
    "elif x<y:\n",
    "    print(\"x is smaller\")\n",
    "elif x>y:\n",
    "    print(\"y is smaller\")\n",
    "    \n",
    "print(\"thank you soo much\")"
   ]
  },
  {
   "cell_type": "code",
   "execution_count": 10,
   "id": "e4c18db2",
   "metadata": {},
   "outputs": [
    {
     "name": "stdout",
     "output_type": "stream",
     "text": [
      "24\n"
     ]
    }
   ],
   "source": [
    "mysum=0\n",
    "for i in range(7,10):\n",
    "    #7 is the starting number of the loop and 10 is the last\n",
    "    mysum=i+mysum\n",
    "print(mysum)"
   ]
  },
  {
   "cell_type": "code",
   "execution_count": 11,
   "id": "40a7ceb7",
   "metadata": {},
   "outputs": [
    {
     "name": "stdout",
     "output_type": "stream",
     "text": [
      "21\n"
     ]
    }
   ],
   "source": [
    "mysum=0\n",
    "for i in range(5,11,2):\n",
    "    # last 2 denotes the step size\n",
    "    mysum=i+mysum\n",
    "print(mysum)"
   ]
  },
  {
   "cell_type": "code",
   "execution_count": 16,
   "id": "950fc13e",
   "metadata": {},
   "outputs": [
    {
     "name": "stdout",
     "output_type": "stream",
     "text": [
      "the sum is:  32\n",
      "printing the loop\n",
      "5\n",
      "7\n",
      "9\n"
     ]
    }
   ],
   "source": [
    "mysum=0\n",
    "for i in range(5,12,2):\n",
    "    # last 2 denotes the step size\n",
    "    mysum=i+mysum\n",
    "print(\"the sum is: \",mysum)\n",
    "\n",
    "#checking the iteration of the loop to check the the range of the loop\n",
    "mysum=0\n",
    "print(\"printing the loop\")\n",
    "for i in range(5,11,2):\n",
    "    print(i)"
   ]
  },
  {
   "cell_type": "code",
   "execution_count": 25,
   "id": "a03a5759",
   "metadata": {},
   "outputs": [
    {
     "name": "stdout",
     "output_type": "stream",
     "text": [
      "the length of string is:  3\n",
      "strings are imutable. they cannot be changed...\n"
     ]
    },
    {
     "data": {
      "text/plain": [
       "'yellow'"
      ]
     },
     "execution_count": 25,
     "metadata": {},
     "output_type": "execute_result"
    }
   ],
   "source": [
    "s=\"abc\"\n",
    "print(\"the length of string is: \",len(s))\n",
    "s[1]\n",
    "print(\"strings are imutable. they cannot be changed...\")\n",
    "a=\"hello\"\n",
    "#below line will not work\n",
    "#a[0]=\"y\"\n",
    "\n",
    "#to cahnge the string, use below line...below line adds two stings\n",
    "a=\"y\"+a[1:len(a)]+\"w\"\n",
    "a"
   ]
  },
  {
   "cell_type": "code",
   "execution_count": 27,
   "id": "5517bd8e",
   "metadata": {},
   "outputs": [
    {
     "name": "stdout",
     "output_type": "stream",
     "text": [
      "2nd method is better for the strings in python\n"
     ]
    }
   ],
   "source": [
    "s=\"demo loops\"\n",
    "\n",
    "#1st method\n",
    "for index in range(len(s)):\n",
    "    if s[index]==\"i\" or s[index]==\"u\":\n",
    "        print(\"there is an i or u in the string\")\n",
    "        \n",
    "        \n",
    "#2nd method\n",
    "for char in s:\n",
    "    if char==\"i\" or char==\"u\":\n",
    "        print(\"there is i or u in the string\")\n",
    "        \n",
    "print(\"2nd method is better for the strings in python\")"
   ]
  },
  {
   "cell_type": "code",
   "execution_count": null,
   "id": "2bd94ceb",
   "metadata": {},
   "outputs": [],
   "source": []
  }
 ],
 "metadata": {
  "kernelspec": {
   "display_name": "Python 3 (ipykernel)",
   "language": "python",
   "name": "python3"
  },
  "language_info": {
   "codemirror_mode": {
    "name": "ipython",
    "version": 3
   },
   "file_extension": ".py",
   "mimetype": "text/x-python",
   "name": "python",
   "nbconvert_exporter": "python",
   "pygments_lexer": "ipython3",
   "version": "3.9.12"
  }
 },
 "nbformat": 4,
 "nbformat_minor": 5
}
